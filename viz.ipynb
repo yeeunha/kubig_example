{
 "cells": [
  {
   "cell_type": "code",
   "execution_count": 1,
   "metadata": {},
   "outputs": [],
   "source": [
    "import numpy as np\n",
    "import pandas as pd"
   ]
  },
  {
   "cell_type": "code",
   "execution_count": 1,
   "metadata": {},
   "outputs": [],
   "source": [
    "a=1\n",
    "b=2"
   ]
  },
  {
   "cell_type": "code",
   "execution_count": 2,
   "metadata": {},
   "outputs": [
    {
     "ename": "ImportError",
     "evalue": "cannot import name 'squaresum' from 'mathtool' (c:\\Users\\yeeun\\OneDrive\\문서\\GitHub\\kubig_example\\mathtool.py)",
     "output_type": "error",
     "traceback": [
      "\u001b[1;31m---------------------------------------------------------------------------\u001b[0m",
      "\u001b[1;31mImportError\u001b[0m                               Traceback (most recent call last)",
      "\u001b[1;32mc:\\Users\\yeeun\\OneDrive\\문서\\GitHub\\kubig_example\\viz.ipynb Cell 3\u001b[0m in \u001b[0;36m<module>\u001b[1;34m\u001b[0m\n\u001b[1;32m----> <a href='vscode-notebook-cell:/c%3A/Users/yeeun/OneDrive/%EB%AC%B8%EC%84%9C/GitHub/kubig_example/viz.ipynb#W2sZmlsZQ%3D%3D?line=0'>1</a>\u001b[0m \u001b[39mfrom\u001b[39;00m \u001b[39mmathtool\u001b[39;00m \u001b[39mimport\u001b[39;00m squaresum\n",
      "\u001b[1;31mImportError\u001b[0m: cannot import name 'squaresum' from 'mathtool' (c:\\Users\\yeeun\\OneDrive\\문서\\GitHub\\kubig_example\\mathtool.py)"
     ]
    }
   ],
   "source": [
    "from mathtool import squaresum"
   ]
  },
  {
   "cell_type": "code",
   "execution_count": 4,
   "metadata": {},
   "outputs": [
    {
     "name": "stdout",
     "output_type": "stream",
     "text": [
      "5\n"
     ]
    }
   ],
   "source": [
    "print(squaresum(a,b))"
   ]
  },
  {
   "cell_type": "code",
   "execution_count": null,
   "metadata": {},
   "outputs": [],
   "source": []
  }
 ],
 "metadata": {
  "kernelspec": {
   "display_name": "Python 3",
   "language": "python",
   "name": "python3"
  },
  "language_info": {
   "codemirror_mode": {
    "name": "ipython",
    "version": 3
   },
   "file_extension": ".py",
   "mimetype": "text/x-python",
   "name": "python",
   "nbconvert_exporter": "python",
   "pygments_lexer": "ipython3",
   "version": "3.10.2"
  },
  "orig_nbformat": 4,
  "vscode": {
   "interpreter": {
    "hash": "9da8e2684a8e11fe852ea70fc47390dfa5b91f132a8b60d88d3ab2f99e5c059b"
   }
  }
 },
 "nbformat": 4,
 "nbformat_minor": 2
}
